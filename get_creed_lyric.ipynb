{
 "cells": [
  {
   "cell_type": "code",
   "execution_count": 8,
   "id": "a69fe751",
   "metadata": {},
   "outputs": [],
   "source": [
    "import requests\n",
    "import pandas as pd\n",
    "import pandas as pd"
   ]
  },
  {
   "cell_type": "code",
   "execution_count": 9,
   "id": "233a0a7b",
   "metadata": {},
   "outputs": [
    {
     "name": "stdout",
     "output_type": "stream",
     "text": [
      "success!\n",
      "                                              lyrics\n",
      "0  When dreaming I'm guided to another world\\r\\nT...\n",
      "When dreaming I'm guided to another world\n",
      "Time and time again\n",
      "At sunrise I fight to stay asleep\n",
      "'Cause I don't want to leave the comfort of this place\n",
      "'Cause there's a hunger, a longing to escape\n",
      "From the life I live when I'm awake\n",
      "\n",
      "So let's go there\n",
      "\n",
      "Let's make our escape\n",
      "\n",
      "Come on, let's go there\n",
      "\n",
      "Let's ask can we stay?\n",
      "\n",
      "\n",
      "\n",
      "Can you take me Higher?\n",
      "\n",
      "To a place where blind men see\n",
      "\n",
      "Can you take me Higher?\n",
      "\n",
      "To a place with golden streets\n",
      "\n",
      "\n",
      "\n",
      "Although I would like our world to change\n",
      "\n",
      "It helps me to appreciate\n",
      "\n",
      "Those nights and those dreams\n",
      "\n",
      "But, my friend, I'd sacrifice all those nights\n",
      "\n",
      "If I could make the Earth and my dreams the same\n",
      "\n",
      "The only difference is\n",
      "\n",
      "To let love replace all our hate\n",
      "\n",
      "So let's go there\n",
      "\n",
      "Let's make our escape\n",
      "\n",
      "Come on, let's go there\n",
      "\n",
      "Let's ask can we stay?\n",
      "\n",
      "\n",
      "\n",
      "Can you take me Higher?\n",
      "\n",
      "To a place where blind men see\n",
      "\n",
      "Can you take me Higher?\n",
      "\n",
      "To a place with golden streets\n",
      "\n",
      "\n",
      "\n",
      "So lets go there, lets go there,\n",
      "\n",
      "Come on, lets go there\n",
      "\n",
      "Lets ask can we stay?\n",
      "\n",
      "\n",
      "\n",
      "Up high I feel like I'm alive for the very first time\n",
      "\n",
      "Set up high I'm strong enough to take these dreams\n",
      "\n",
      "And make them mine\n",
      "\n",
      "Set up high I'm strong enough to take these dreams\n",
      "\n",
      "And make them mine\n",
      "\n",
      "\n",
      "\n",
      "Can you take me Higher?\n",
      "\n",
      "To a place where blind men see\n",
      "\n",
      "Can you take me Higher?\n",
      "\n",
      "To a place with golden streets\n",
      "\n",
      "\n",
      "\n",
      "Can you take me Higher?\n",
      "\n",
      "To a place where blind men see\n",
      "\n",
      "Can you take me Higher?\n",
      "\n",
      "To a place with golden streets\n"
     ]
    }
   ],
   "source": [
    "def get_creed_lyric():\n",
    "    url = \"https://api.lyrics.ovh/v1/creed/higher\"\n",
    "    response = requests.get(url)\n",
    "    if response.status_code == 200:\n",
    "        data = response.json()\n",
    "        print('success!')\n",
    "    else:\n",
    "        print(f\"Error: {response.status_code}\")\n",
    "   \n",
    " \n",
    "    df = pd.DataFrame([data])\n",
    "    print(df)\n",
    "    print(df['lyrics'].iloc[0])\n",
    "\n",
    "\n",
    "\n",
    "get_creed_lyric()\n"
   ]
  },
  {
   "cell_type": "code",
   "execution_count": 14,
   "id": "3f681160",
   "metadata": {},
   "outputs": [],
   "source": [
    "import pandas as pd\n",
    "import requests\n"
   ]
  },
  {
   "cell_type": "code",
   "execution_count": 15,
   "id": "651fd388",
   "metadata": {},
   "outputs": [
    {
     "name": "stdout",
     "output_type": "stream",
     "text": [
      "Error: 401\n"
     ]
    },
    {
     "ename": "ValueError",
     "evalue": "DataFrame constructor not properly called!",
     "output_type": "error",
     "traceback": [
      "\u001b[31m---------------------------------------------------------------------------\u001b[39m",
      "\u001b[31mValueError\u001b[39m                                Traceback (most recent call last)",
      "\u001b[32m~\\AppData\\Local\\Temp\\ipykernel_3848\\1634692215.py\u001b[39m in \u001b[36m?\u001b[39m\u001b[34m()\u001b[39m\n\u001b[32m      6\u001b[39m         print(\u001b[33m'success!'\u001b[39m)\n\u001b[32m      7\u001b[39m \u001b[38;5;28;01melse\u001b[39;00m:\n\u001b[32m      8\u001b[39m         print(f\"Error: {response.status_code}\")\n\u001b[32m      9\u001b[39m \n\u001b[32m---> \u001b[39m\u001b[32m10\u001b[39m df = pd.DataFrame(data)\n\u001b[32m     11\u001b[39m print(df)\n\u001b[32m     12\u001b[39m \n\u001b[32m     13\u001b[39m data = response.json\n",
      "\u001b[32mc:\\Users\\Sarah\\AppData\\Local\\Programs\\Python\\Python313\\Lib\\site-packages\\pandas\\core\\frame.py\u001b[39m in \u001b[36m?\u001b[39m\u001b[34m(self, data, index, columns, dtype, copy)\u001b[39m\n\u001b[32m    882\u001b[39m                 )\n\u001b[32m    883\u001b[39m         \u001b[38;5;66;03m# For data is scalar\u001b[39;00m\n\u001b[32m    884\u001b[39m         \u001b[38;5;28;01melse\u001b[39;00m:\n\u001b[32m    885\u001b[39m             \u001b[38;5;28;01mif\u001b[39;00m index \u001b[38;5;28;01mis\u001b[39;00m \u001b[38;5;28;01mNone\u001b[39;00m \u001b[38;5;28;01mor\u001b[39;00m columns \u001b[38;5;28;01mis\u001b[39;00m \u001b[38;5;28;01mNone\u001b[39;00m:\n\u001b[32m--> \u001b[39m\u001b[32m886\u001b[39m                 \u001b[38;5;28;01mraise\u001b[39;00m ValueError(\u001b[33m\"DataFrame constructor not properly called!\"\u001b[39m)\n\u001b[32m    887\u001b[39m \n\u001b[32m    888\u001b[39m             index = ensure_index(index)\n\u001b[32m    889\u001b[39m             columns = ensure_index(columns)\n",
      "\u001b[31mValueError\u001b[39m: DataFrame constructor not properly called!"
     ]
    }
   ],
   "source": [
    "url = \"http://api.mediastack.com/v1/news?access_key = 3358817ddd944289fb0b0f782a8b0da7\"\n",
    "\n",
    "response = requests.get(url)\n",
    "if response.status_code == 200:\n",
    "        data = response.json()\n",
    "        print('success!')\n",
    "else:\n",
    "        print(f\"Error: {response.status_code}\")\n",
    " \n",
    "df = pd.DataFrame(data)\n",
    "print(df)\n",
    "\n",
    "data = response.json\n",
    "df = pd.DataFrame(data)\n",
    "print(df.head())\n"
   ]
  }
 ],
 "metadata": {
  "kernelspec": {
   "display_name": "Python 3",
   "language": "python",
   "name": "python3"
  },
  "language_info": {
   "codemirror_mode": {
    "name": "ipython",
    "version": 3
   },
   "file_extension": ".py",
   "mimetype": "text/x-python",
   "name": "python",
   "nbconvert_exporter": "python",
   "pygments_lexer": "ipython3",
   "version": "3.13.2"
  }
 },
 "nbformat": 4,
 "nbformat_minor": 5
}
