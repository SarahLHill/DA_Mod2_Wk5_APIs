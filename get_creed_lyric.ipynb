{
 "cells": [
  {
   "cell_type": "code",
   "execution_count": 21,
   "id": "a69fe751",
   "metadata": {},
   "outputs": [],
   "source": [
    "import requests\n",
    "import pandas as pd\n",
    "import pandas as pd"
   ]
  },
  {
   "cell_type": "code",
   "execution_count": 22,
   "id": "233a0a7b",
   "metadata": {},
   "outputs": [
    {
     "name": "stdout",
     "output_type": "stream",
     "text": [
      "success!\n",
      "                                              lyrics\n",
      "0  When dreaming I'm guided to another world\\r\\nT...\n"
     ]
    }
   ],
   "source": [
    "def get_creed_lyric():\n",
    "    url = \"https://api.lyrics.ovh/v1/creed/higher\"\n",
    "    response = requests.get(url)\n",
    "    if response.status_code == 200:\n",
    "        data = response.json()\n",
    "        print('success!')\n",
    "    else:\n",
    "        print(f\"Error: {response.status_code}\")\n",
    "   \n",
    " \n",
    "    df = pd.DataFrame([data])\n",
    "    print(df)\n",
    "\n",
    "get_creed_lyric()"
   ]
  }
 ],
 "metadata": {
  "kernelspec": {
   "display_name": "Python 3",
   "language": "python",
   "name": "python3"
  },
  "language_info": {
   "codemirror_mode": {
    "name": "ipython",
    "version": 3
   },
   "file_extension": ".py",
   "mimetype": "text/x-python",
   "name": "python",
   "nbconvert_exporter": "python",
   "pygments_lexer": "ipython3",
   "version": "3.13.2"
  }
 },
 "nbformat": 4,
 "nbformat_minor": 5
}
