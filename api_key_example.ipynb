{
 "cells": [
  {
   "cell_type": "code",
   "execution_count": 1,
   "id": "ee7eda73",
   "metadata": {},
   "outputs": [],
   "source": [
    "import pandas as pd\n",
    "import requests"
   ]
  },
  {
   "cell_type": "code",
   "execution_count": 3,
   "id": "e0558dc9",
   "metadata": {},
   "outputs": [
    {
     "name": "stdout",
     "output_type": "stream",
     "text": [
      "success!\n",
      "                       author  \\\n",
      "0              Alice Giddings   \n",
      "1  Joan Morris, Correspondent   \n",
      "2                        None   \n",
      "3         ZEIT ONLINE: News -   \n",
      "4                        None   \n",
      "\n",
      "                                               title  \\\n",
      "0  Lidl launches ‘dream’ bakery item we ate in th...   \n",
      "1  Point Buckler Island: Rescuing a keystone of t...   \n",
      "2     Dividend Power Dogs: 3 Ideal Safe Buys For May   \n",
      "3  Turnfest: Show, Musik und Gottesdienst - bunte...   \n",
      "4  Turnfest: Show, Musik und Gottesdienst - bunte...   \n",
      "\n",
      "                                         description  \\\n",
      "0            But some fans are taking issue with it.   \n",
      "1  This island may be tiny but it's a key point i...   \n",
      "2     Dividend Power Dogs: 3 Ideal Safe Buys For May   \n",
      "3  Turnfest: Show, Musik und Gottesdienst - bunte...   \n",
      "4  Zum Turnfest in Leipzig werden viele Tausend T...   \n",
      "\n",
      "                                                 url         source  \\\n",
      "0  https://metro.co.uk/2025/05/16/lidl-launches-d...          Metro   \n",
      "1  https://www.mercurynews.com/2025/05/16/point-b...    mercurynews   \n",
      "2  https://seekingalpha.com/article/4787574-divid...  Seeking Alpha   \n",
      "3  https://www.zeit.de/news/2025-05/16/show-musik...           ZEIT   \n",
      "4  https://www.stern.de/gesellschaft/regional/sac...          stern   \n",
      "\n",
      "                                               image category language  \\\n",
      "0                                               None  general       en   \n",
      "1  https://www.mercurynews.com/wp-content/uploads...  general       en   \n",
      "2                                               None  general       en   \n",
      "3  https://img.zeit.de/news/2025-05/16/show-musik...  general       de   \n",
      "4  https://image.stern.de/35730896/t/nI/v1/w1440/...  general       de   \n",
      "\n",
      "  country               published_at  \n",
      "0      gb  2025-05-16T13:40:59+00:00  \n",
      "1      us  2025-05-16T13:40:51+00:00  \n",
      "2      us  2025-05-16T13:40:51+00:00  \n",
      "3      de  2025-05-16T13:40:49+00:00  \n",
      "4      de  2025-05-16T13:40:49+00:00  \n"
     ]
    }
   ],
   "source": [
    "def get_mediastack(api_url): \n",
    "    response = requests.get(api_url)\n",
    "    if response.status_code == 200:\n",
    "        data = response.json()\n",
    "        print('success!')\n",
    "        # mediastack returns articles under 'data' key\n",
    "        if 'data' in data:\n",
    "            return pd.DataFrame(data['data'])\n",
    "        else:\n",
    "            print(\"No 'data' key in response.\")\n",
    "            return pd.DataFrame()\n",
    "    else:\n",
    "        print(f\"Error: {response.status_code}\")\n",
    "        return pd.DataFrame()\n",
    "\n",
    "\n",
    "api_url = \"http://api.mediastack.com/v1/news?access_key=3358817ddd944289fb0b0f782a8b0da7\"\n",
    "\n",
    "def retrieve_mediastack_data(get_mediastack, api_url):\n",
    "    df = get_mediastack(api_url)\n",
    "    print(df.head())\n",
    "\n",
    "retrieve_mediastack_data(get_mediastack, api_url)"
   ]
  },
  {
   "cell_type": "code",
   "execution_count": null,
   "id": "256c53fa",
   "metadata": {},
   "outputs": [],
   "source": []
  }
 ],
 "metadata": {
  "kernelspec": {
   "display_name": "Python 3",
   "language": "python",
   "name": "python3"
  },
  "language_info": {
   "codemirror_mode": {
    "name": "ipython",
    "version": 3
   },
   "file_extension": ".py",
   "mimetype": "text/x-python",
   "name": "python",
   "nbconvert_exporter": "python",
   "pygments_lexer": "ipython3",
   "version": "3.13.2"
  }
 },
 "nbformat": 4,
 "nbformat_minor": 5
}
